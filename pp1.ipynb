{
 "cells": [
  {
   "cell_type": "code",
   "execution_count": 1,
   "id": "3090121d",
   "metadata": {},
   "outputs": [],
   "source": [
    "# Perceptron \n",
    "\n",
    "import pandas as pd\n",
    "import numpy as np\n",
    "from sklearn.model_selection import train_test_split\n",
    "from sklearn.multioutput import MultiOutputClassifier\n",
    "from sklearn.metrics import accuracy_score\n",
    "from sklearn.metrics import precision_score\n",
    "from sklearn.preprocessing import MultiLabelBinarizer\n",
    "from sklearn.metrics import f1_score\n",
    "from sklearn.linear_model import Perceptron"
   ]
  },
  {
   "cell_type": "code",
   "execution_count": 2,
   "id": "98e90566",
   "metadata": {},
   "outputs": [],
   "source": [
    "df = pd.read_csv('Spotify-Dupes.csv',index_col=0)\n",
    "df.drop(['track_id', 'album_name'], axis = 1, inplace = True)"
   ]
  },
  {
   "cell_type": "code",
   "execution_count": 3,
   "id": "ed1eff30",
   "metadata": {},
   "outputs": [],
   "source": [
    "# Use the `str.split` method to split the `artists` column into a list of artists\n",
    "df[\"artists\"] = df[\"artists\"].str.split(';')"
   ]
  },
  {
   "cell_type": "code",
   "execution_count": 4,
   "id": "45a089c3",
   "metadata": {},
   "outputs": [],
   "source": [
    "# Convert the `explicit` column to a boolean dtype\n",
    "df['explicit'] = df['explicit'].astype(bool)"
   ]
  },
  {
   "cell_type": "code",
   "execution_count": 5,
   "id": "831f24f5",
   "metadata": {},
   "outputs": [],
   "source": [
    "# Use the `groupby` method to group the data by `track_name`\n",
    "df = df.groupby([\"track_name\"]).agg({\"artists\":lambda x: x.iloc[0],\n",
    "                                      \"popularity\":lambda x: x.iloc[0],\n",
    "                                      \"duration_ms\":lambda x: x.iloc[0],\n",
    "                                      \"explicit\":lambda x: x.iloc[0],\n",
    "                                      \"danceability\":lambda x: x.iloc[0],\n",
    "                                      \"energy\":lambda x: x.iloc[0],\n",
    "                                      \"key\":lambda x: x.iloc[0],\n",
    "                                      \"loudness\":lambda x: x.iloc[0],\n",
    "                                      \"mode\":lambda x: x.iloc[0],\n",
    "                                      \"speechiness\":lambda x: x.iloc[0],\n",
    "                                      \"acousticness\":lambda x: x.iloc[0],\n",
    "                                      \"instrumentalness\":lambda x: x.iloc[0],\n",
    "                                      \"liveness\":lambda x: x.iloc[0],\n",
    "                                      \"track_genre\": list})\n"
   ]
  },
  {
   "cell_type": "code",
   "execution_count": 6,
   "id": "a63c4e15",
   "metadata": {},
   "outputs": [],
   "source": [
    "#df= df[~df['track_genre'].isin([\"j-pop\"])]\n",
    "df = df[~df['track_genre'].apply(lambda x: 'j-pop' in x or 'anime' in x or 'black-metal' in x or 'bluegrass' in x or 'brazil' in x or 'cantopop' in x\n",
    "                                  or 'french' in x or 'german' in x or 'indian' in x or 'iranian' in x or 'j-dance' in x or 'j-idol' in x\n",
    "                                  or 'j-rock' in x or'k-pop' in x or 'malay' in x or 'mandopop' in x or 'swedish' in x or 'turkish' in x or 'world-music' in x)]"
   ]
  },
  {
   "cell_type": "code",
   "execution_count": 7,
   "id": "63b1dc5b",
   "metadata": {},
   "outputs": [],
   "source": [
    "df.to_csv('GenreRemoved.csv')\n",
    "df = df.sample(8000)\n",
    "# Use the `apply` method to apply a function to each element of the `track_genre` column\n",
    "# The function maps the values of the `track_genre` column to integers using a dictionary\n",
    "all_genres = df[\"track_genre\"].apply(pd.Series).stack().unique()\n",
    "track_genre_dict = {genre: i for i, genre in enumerate(all_genres)}\n",
    "df['track_genre'] = df['track_genre'].apply(lambda x: [track_genre_dict[a] for a in x])\n",
    "df['track_genre'] = df['track_genre'].apply(set)\n",
    "df['track_genre'] = df['track_genre'].apply(list)"
   ]
  },
  {
   "cell_type": "code",
   "execution_count": 8,
   "id": "f8c1d839",
   "metadata": {},
   "outputs": [],
   "source": [
    "all_artists = df[\"artists\"].apply(pd.Series).stack().unique()\n",
    "artist_dict = {artist: i for i, artist in enumerate(all_artists)}\n",
    "df['artists'] = df['artists'].apply(lambda x: [artist_dict[a] for a in x])\n",
    "df['artists'] = df['artists'].apply(set)\n",
    "df['artists'] = df['artists'].apply(list)"
   ]
  },
  {
   "cell_type": "code",
   "execution_count": 9,
   "id": "71e16bfd",
   "metadata": {},
   "outputs": [],
   "source": [
    "df = df.dropna()"
   ]
  },
  {
   "cell_type": "code",
   "execution_count": 10,
   "id": "1220a2f5",
   "metadata": {},
   "outputs": [],
   "source": [
    "mlb = MultiLabelBinarizer()\n",
    "artists_bin = mlb.fit_transform(df['artists'])\n",
    "track_genre_bin = mlb.fit_transform(df['track_genre'])\n",
    "\n",
    "result = []\n",
    "for x in df.columns:\n",
    "    if (x != 'track_genre' and x!='artists'):\n",
    "        result.append(x)"
   ]
  },
  {
   "cell_type": "code",
   "execution_count": 11,
   "id": "22ca5cb3",
   "metadata": {},
   "outputs": [],
   "source": [
    "X = df[result].values\n",
    "y = track_genre_bin"
   ]
  },
  {
   "cell_type": "code",
   "execution_count": 12,
   "id": "aef4ee28",
   "metadata": {},
   "outputs": [],
   "source": [
    "X = np.concatenate((X, artists_bin), axis=1)"
   ]
  },
  {
   "cell_type": "code",
   "execution_count": 13,
   "id": "7fa9257d",
   "metadata": {},
   "outputs": [],
   "source": [
    "clf = MultiOutputClassifier(Perceptron(random_state=1))"
   ]
  },
  {
   "cell_type": "code",
   "execution_count": 14,
   "id": "627d16d5",
   "metadata": {},
   "outputs": [],
   "source": [
    "X_train, X_test, y_train, y_test = train_test_split(X, y, test_size=0.05, random_state=42)"
   ]
  },
  {
   "cell_type": "code",
   "execution_count": 15,
   "id": "2c325fc4",
   "metadata": {},
   "outputs": [
    {
     "data": {
      "text/plain": [
       "MultiOutputClassifier(estimator=Perceptron(random_state=1))"
      ]
     },
     "execution_count": 15,
     "metadata": {},
     "output_type": "execute_result"
    }
   ],
   "source": [
    "# Fit the model to the training data\n",
    "clf.fit(X_train, y_train)"
   ]
  },
  {
   "cell_type": "code",
   "execution_count": 16,
   "id": "fa4bcfc1",
   "metadata": {},
   "outputs": [],
   "source": [
    "# Make predictions on the testing data\n",
    "y_pred = clf.predict(X_test)"
   ]
  },
  {
   "cell_type": "code",
   "execution_count": 17,
   "id": "a6e2589c",
   "metadata": {},
   "outputs": [
    {
     "name": "stderr",
     "output_type": "stream",
     "text": [
      "C:\\Users\\Girudhihan\\anaconda3\\lib\\site-packages\\sklearn\\metrics\\_classification.py:1248: UndefinedMetricWarning: Precision is ill-defined and being set to 0.0 in labels with no predicted samples. Use `zero_division` parameter to control this behavior.\n",
      "  _warn_prf(average, modifier, msg_start, len(result))\n",
      "C:\\Users\\Girudhihan\\anaconda3\\lib\\site-packages\\sklearn\\metrics\\_classification.py:1248: UndefinedMetricWarning: Precision is ill-defined and being set to 0.0 in labels with no predicted samples. Use `zero_division` parameter to control this behavior.\n",
      "  _warn_prf(average, modifier, msg_start, len(result))\n"
     ]
    }
   ],
   "source": [
    "# Calculate accuracy metric\n",
    "accuracy = accuracy_score(y_pred, y_test)\n",
    "mprecision = precision_score(y_test, y_pred, average='micro')\n",
    "macprecision = precision_score(y_test, y_pred, average='macro')\n",
    "wprecision = precision_score(y_test, y_pred, average='weighted')\n",
    "sprecision = precision_score(y_test, y_pred, average='samples')\n",
    "f=f1_score(y_test, y_pred, average='micro')"
   ]
  },
  {
   "cell_type": "code",
   "execution_count": 18,
   "id": "712fdda9",
   "metadata": {},
   "outputs": [
    {
     "name": "stdout",
     "output_type": "stream",
     "text": [
      "The accuracy is:  2.0 %\n",
      "The Micro Precision is:  2.0 %\n",
      "The Macro Precision is:  0.021052631578947368 %\n",
      "The Weight Precision is:  0.03193612774451098 %\n",
      "The Sample Precision is:  2.0 %\n",
      "f1 =   1.7758046614872365 %\n"
     ]
    }
   ],
   "source": [
    "print('The accuracy is: ',accuracy*100,'%')\n",
    "print('The Micro Precision is: ',mprecision*100,'%')\n",
    "print('The Macro Precision is: ',macprecision*100,'%')\n",
    "print('The Weight Precision is: ',wprecision*100,'%')\n",
    "print('The Sample Precision is: ',sprecision*100,'%')\n",
    "print(\"f1 =  \", f*100 , \"%\")"
   ]
  }
 ],
 "metadata": {
  "kernelspec": {
   "display_name": "Python 3 (ipykernel)",
   "language": "python",
   "name": "python3"
  },
  "language_info": {
   "codemirror_mode": {
    "name": "ipython",
    "version": 3
   },
   "file_extension": ".py",
   "mimetype": "text/x-python",
   "name": "python",
   "nbconvert_exporter": "python",
   "pygments_lexer": "ipython3",
   "version": "3.9.7"
  }
 },
 "nbformat": 4,
 "nbformat_minor": 5
}
