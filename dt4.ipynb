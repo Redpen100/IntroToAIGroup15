{
 "cells": [
  {
   "cell_type": "code",
   "execution_count": 39,
   "id": "c59a21db",
   "metadata": {},
   "outputs": [],
   "source": [
    "import pandas as pd\n",
    "import numpy as np\n",
    "from sklearn.preprocessing import LabelEncoder\n",
    "from sklearn.tree import DecisionTreeClassifier\n",
    "from sklearn.model_selection import train_test_split\n",
    "from sklearn.multioutput import MultiOutputClassifier\n",
    "from sklearn.metrics import accuracy_score\n",
    "from sklearn.metrics import precision_score\n",
    "from sklearn.preprocessing import MultiLabelBinarizer\n",
    "from sklearn.model_selection import KFold"
   ]
  },
  {
   "cell_type": "code",
   "execution_count": 21,
   "id": "8863086c",
   "metadata": {},
   "outputs": [],
   "source": [
    "df = pd.read_csv('Spotify-Dupes.csv',index_col=0)\n",
    "df.drop(['track_id', 'album_name'], axis = 1, inplace = True)"
   ]
  },
  {
   "cell_type": "code",
   "execution_count": 22,
   "id": "d53042e4",
   "metadata": {},
   "outputs": [],
   "source": [
    "df[\"artists\"] = df[\"artists\"].str.split(';')"
   ]
  },
  {
   "cell_type": "code",
   "execution_count": 23,
   "id": "f28e8ccb",
   "metadata": {},
   "outputs": [],
   "source": [
    "df['explicit'] = df['explicit'].astype(bool)"
   ]
  },
  {
   "cell_type": "code",
   "execution_count": 24,
   "id": "046f0a9f",
   "metadata": {},
   "outputs": [],
   "source": [
    "track_genre_dict = {genre: i for i, genre in enumerate(df['track_genre'].unique())}\n",
    "df['track_genre'] = df['track_genre'].apply(lambda x: track_genre_dict[x])"
   ]
  },
  {
   "cell_type": "code",
   "execution_count": 25,
   "id": "85149c10",
   "metadata": {},
   "outputs": [],
   "source": [
    "df2 = df.groupby([\"track_name\"]).agg({\"artists\":lambda x: x.iloc[0],\n",
    "                                      \"popularity\":lambda x: x.iloc[0],\n",
    "                                      \"duration_ms\":lambda x: x.iloc[0],\n",
    "                                      \"explicit\":lambda x: x.iloc[0],\n",
    "                                      \"danceability\":lambda x: x.iloc[0],\n",
    "                                      \"energy\":lambda x: x.iloc[0],\n",
    "                                      \"key\":lambda x: x.iloc[0],\n",
    "                                      \"loudness\":lambda x: x.iloc[0],\n",
    "                                      \"mode\":lambda x: x.iloc[0],\n",
    "                                      \"speechiness\":lambda x: x.iloc[0],\n",
    "                                      \"acousticness\":lambda x: x.iloc[0],\n",
    "                                      \"instrumentalness\":lambda x: x.iloc[0],\n",
    "                                      \"liveness\":lambda x: x.iloc[0],\n",
    "                                      \"track_genre\": list})\n"
   ]
  },
  {
   "cell_type": "code",
   "execution_count": 26,
   "id": "aa2535fa",
   "metadata": {},
   "outputs": [],
   "source": [
    "all_artists = df2[\"artists\"].apply(pd.Series).stack().unique()\n",
    "artist_dict = {artist: i for i, artist in enumerate(all_artists)}\n",
    "df2['artists'] = df2['artists'].apply(lambda x: [artist_dict[a] for a in x])"
   ]
  },
  {
   "cell_type": "code",
   "execution_count": 27,
   "id": "2aa4c8c6",
   "metadata": {},
   "outputs": [],
   "source": [
    "df2 = df2.dropna()"
   ]
  },
  {
   "cell_type": "code",
   "execution_count": 28,
   "id": "3c99c63e",
   "metadata": {},
   "outputs": [],
   "source": [
    "mlb = MultiLabelBinarizer()\n",
    "df3 = df2.sample(8000)\n",
    "artists_bin = mlb.fit_transform(df3['artists'])\n",
    "track_genre_bin = mlb.fit_transform(df3['track_genre'])\n",
    "\n",
    "result = []\n",
    "for x in df3.columns:\n",
    "    if (x != 'track_genre' and x!='artists'):\n",
    "        result.append(x)"
   ]
  },
  {
   "cell_type": "code",
   "execution_count": 29,
   "id": "a20e29d0",
   "metadata": {},
   "outputs": [
    {
     "name": "stdout",
     "output_type": "stream",
     "text": [
      "(8000, 12)\n",
      "(8000, 114)\n"
     ]
    }
   ],
   "source": [
    "X = df3[result].values\n",
    "y = track_genre_bin\n",
    "\n",
    "print(X.shape)\n",
    "print(y.shape)"
   ]
  },
  {
   "cell_type": "code",
   "execution_count": 30,
   "id": "7a12cbd5",
   "metadata": {},
   "outputs": [],
   "source": [
    "X = np.concatenate((X, artists_bin), axis=1)"
   ]
  },
  {
   "cell_type": "code",
   "execution_count": 31,
   "id": "b9c3f4ec",
   "metadata": {},
   "outputs": [],
   "source": [
    "dt = MultiOutputClassifier(DecisionTreeClassifier(criterion=\"entropy\"))"
   ]
  },
  {
   "cell_type": "code",
   "execution_count": 32,
   "id": "fa2d3006",
   "metadata": {},
   "outputs": [
    {
     "name": "stdout",
     "output_type": "stream",
     "text": [
      "(6000, 7137)\n",
      "(2000, 7137)\n",
      "(6000, 114)\n",
      "(2000, 114)\n"
     ]
    }
   ],
   "source": [
    "X_train, X_test, y_train, y_test = train_test_split(X, y, test_size=0.25, random_state=0)\n",
    "\n",
    "print(X_train.shape)\n",
    "print(X_test.shape)\n",
    "print(y_train.shape)\n",
    "print(y_test.shape)"
   ]
  },
  {
   "cell_type": "code",
   "execution_count": 33,
   "id": "d7b477a8",
   "metadata": {},
   "outputs": [
    {
     "data": {
      "text/plain": [
       "MultiOutputClassifier(estimator=DecisionTreeClassifier(criterion='entropy'))"
      ]
     },
     "execution_count": 33,
     "metadata": {},
     "output_type": "execute_result"
    }
   ],
   "source": [
    "dt.fit(X_train,y_train)"
   ]
  },
  {
   "cell_type": "code",
   "execution_count": 34,
   "id": "f3dbb8b4",
   "metadata": {},
   "outputs": [],
   "source": [
    "# Make predictions on the testing data\n",
    "y_pred = dt.predict(X_test)"
   ]
  },
  {
   "cell_type": "code",
   "execution_count": 35,
   "id": "9df9514a",
   "metadata": {},
   "outputs": [
    {
     "name": "stdout",
     "output_type": "stream",
     "text": [
      "[[0 0 0 0 0 0 0 0 0 0 0 0 0 0 0 0 0 0 0 0 0 0 0 0 0 0 0 0 0 0 0 0 0 0 0 0\n",
      "  0 0 0 0 0 0 0 0 0 0 0 0 0 0 0 0 0 0 0 0 0 0 0 0 0 0 0 0 0 0 0 0 0 0 0 0\n",
      "  0 0 0 0 0 0 0 0 0 0 0 0 0 0 0 0 0 0 0 0 0 0 0 0 0 0 0 0 0 0 0 0 0 0 0 0\n",
      "  0 0 0 0 0 1]\n",
      " [0 0 0 0 0 0 0 0 0 0 0 0 0 0 0 0 0 0 0 0 0 0 0 0 0 0 0 0 0 0 0 0 0 0 0 0\n",
      "  0 0 0 0 0 0 0 0 0 0 0 0 0 0 0 0 0 0 0 0 0 0 0 0 0 0 0 0 0 0 0 0 0 0 0 0\n",
      "  0 0 0 0 0 0 0 0 0 0 0 0 0 0 0 0 0 0 0 0 0 0 0 0 0 0 0 0 0 0 0 0 0 0 0 0\n",
      "  0 0 0 0 0 0]\n",
      " [0 0 0 1 0 0 0 0 0 0 0 0 0 0 0 0 0 0 0 0 0 0 0 0 0 0 0 0 0 0 0 0 0 0 0 0\n",
      "  0 0 0 0 0 0 0 0 0 0 0 0 0 0 0 0 0 0 0 0 0 0 0 0 0 0 0 0 0 0 0 0 0 0 0 1\n",
      "  0 0 0 0 0 0 0 0 0 0 0 0 0 0 0 0 0 0 0 0 0 0 0 0 0 0 0 0 0 0 0 0 0 0 0 0\n",
      "  0 0 0 0 0 0]\n",
      " [0 0 0 0 0 0 0 0 0 0 0 0 0 0 0 0 0 0 0 0 0 0 0 0 0 0 0 0 0 0 0 0 0 0 0 1\n",
      "  0 0 0 0 0 0 0 0 0 0 0 0 0 0 0 0 0 0 0 0 0 0 0 0 0 1 0 0 0 0 0 0 0 0 0 0\n",
      "  0 0 0 0 0 0 0 0 0 0 0 0 0 0 0 0 0 0 0 0 0 0 0 0 0 0 0 0 0 0 0 0 0 0 0 0\n",
      "  0 0 0 0 0 0]\n",
      " [0 0 0 0 0 0 0 0 0 0 0 0 0 0 0 0 0 0 0 0 0 0 0 0 0 0 0 0 0 0 0 0 0 0 0 0\n",
      "  0 0 0 0 0 0 0 0 0 0 0 0 0 0 0 0 0 0 0 0 0 0 0 0 0 0 0 0 0 0 0 0 0 0 0 0\n",
      "  0 0 0 0 0 0 0 0 0 0 0 0 0 0 0 0 0 0 0 0 0 0 1 0 0 0 0 0 0 0 0 0 0 0 0 0\n",
      "  0 0 0 0 0 0]]\n",
      "[[0 0 0 0 0 0 0 0 0 0 0 0 0 0 0 0 0 0 0 0 0 0 0 0 0 0 0 0 0 0 0 0 0 0 0 0\n",
      "  0 0 0 0 0 0 0 0 0 0 0 0 0 0 0 0 0 0 0 0 0 0 0 0 0 0 0 0 0 0 0 0 0 0 0 0\n",
      "  0 0 0 0 0 0 0 0 0 0 0 0 0 0 0 0 0 0 0 0 0 0 0 0 0 0 0 0 0 0 0 0 0 0 0 0\n",
      "  0 0 0 0 0 1]\n",
      " [0 0 0 0 0 0 0 0 0 0 0 0 0 0 0 0 0 0 0 0 0 0 0 0 0 0 0 0 0 0 0 0 0 0 0 0\n",
      "  0 0 0 0 0 0 0 0 0 0 0 0 0 0 0 0 0 0 0 0 0 0 0 0 0 0 0 0 0 0 0 0 0 0 0 0\n",
      "  0 0 0 0 0 0 1 0 0 0 0 0 0 0 0 0 0 0 0 0 0 0 0 0 0 0 0 0 0 0 0 0 0 0 0 0\n",
      "  0 0 0 0 0 0]\n",
      " [0 0 1 1 0 0 0 0 0 0 0 0 0 0 0 0 0 0 0 0 0 0 0 0 0 0 0 0 0 0 0 0 0 0 0 0\n",
      "  0 0 0 0 0 0 0 0 1 0 0 0 0 0 0 0 0 0 0 0 0 0 0 0 0 0 0 0 0 0 0 0 0 0 0 1\n",
      "  0 0 0 0 0 0 0 0 0 0 0 0 0 0 0 0 0 0 0 0 0 0 0 0 0 0 0 0 0 0 0 0 0 0 0 0\n",
      "  0 0 0 0 0 0]\n",
      " [0 0 0 0 0 0 0 0 0 0 0 0 0 0 0 0 0 0 0 0 0 0 0 0 0 0 0 0 0 0 0 0 0 0 0 1\n",
      "  0 0 0 0 0 0 0 0 0 0 0 0 0 0 0 0 0 0 0 0 0 0 0 0 0 0 0 0 0 0 0 0 0 0 0 0\n",
      "  0 0 0 0 0 0 0 0 0 0 0 0 0 0 0 0 0 0 0 0 0 0 0 0 0 0 0 0 0 0 0 0 0 0 0 0\n",
      "  0 0 0 0 0 0]\n",
      " [0 0 0 0 0 0 0 0 0 0 0 0 0 0 0 0 0 0 0 0 0 0 0 0 0 0 0 0 0 0 0 0 0 0 0 0\n",
      "  0 0 0 0 0 0 0 0 0 0 0 0 0 0 0 0 0 0 0 0 1 1 0 0 0 0 0 0 0 0 0 0 0 0 0 0\n",
      "  0 0 0 0 0 0 0 0 0 0 0 0 0 0 0 0 0 0 0 0 0 0 0 0 0 0 0 0 0 0 0 0 0 0 0 0\n",
      "  0 0 0 0 0 0]]\n"
     ]
    }
   ],
   "source": [
    "print(y_pred[:5])\n",
    "print(y_test[:5])"
   ]
  },
  {
   "cell_type": "code",
   "execution_count": 36,
   "id": "c7beb7d6",
   "metadata": {},
   "outputs": [
    {
     "name": "stdout",
     "output_type": "stream",
     "text": [
      "Accuracy: 0.18\n"
     ]
    }
   ],
   "source": [
    "accuracy = accuracy_score(y_test, y_pred)\n",
    "print('Accuracy: %.2f' % accuracy)"
   ]
  },
  {
   "cell_type": "code",
   "execution_count": 40,
   "id": "b17a992f",
   "metadata": {},
   "outputs": [
    {
     "name": "stdout",
     "output_type": "stream",
     "text": [
      "The Micro Precision is:  40.27149321266968 %\n"
     ]
    }
   ],
   "source": [
    "mprecision = precision_score(y_test, y_pred, average='micro')\n",
    "print('The Micro Precision is: ',mprecision*100,'%')"
   ]
  },
  {
   "cell_type": "code",
   "execution_count": 41,
   "id": "13286912",
   "metadata": {},
   "outputs": [
    {
     "name": "stdout",
     "output_type": "stream",
     "text": [
      "Fold #1, Training Size: 6400, Validation Size: 1600\n",
      "Accuracy: 0.18\n",
      "Micro Precision is:  40.27149321266968 %\n",
      "Fold #2, Training Size: 6400, Validation Size: 1600\n",
      "Accuracy: 0.20\n",
      "Micro Precision is:  40.27149321266968 %\n",
      "Fold #3, Training Size: 6400, Validation Size: 1600\n",
      "Accuracy: 0.18\n",
      "Micro Precision is:  40.27149321266968 %\n",
      "Fold #4, Training Size: 6400, Validation Size: 1600\n",
      "Accuracy: 0.19\n",
      "Micro Precision is:  40.27149321266968 %\n",
      "Fold #5, Training Size: 6400, Validation Size: 1600\n",
      "Accuracy: 0.17\n",
      "Micro Precision is:  40.27149321266968 %\n"
     ]
    }
   ],
   "source": [
    "# Use 5-fold split\n",
    "kf = KFold(5,shuffle=True)\n",
    "\n",
    "fold = 1\n",
    "# The data is split five ways, for each fold, the \n",
    "# decision tree is trained, tested and evaluated for accuracy\n",
    "for train_index, validate_index in kf.split(X,y):\n",
    "    dt.fit(X[train_index],y[train_index])\n",
    "    y_test = y[validate_index]\n",
    "    y_pred = dt.predict(X[validate_index])\n",
    "    print(f\"Fold #{fold}, Training Size: {len(X[train_index])}, Validation Size: {len(X[validate_index])}\")\n",
    "    print('Accuracy: %.2f' % accuracy_score(y_test, y_pred))\n",
    "    print('Micro Precision is: ',mprecision*100,'%')\n",
    "    fold += 1"
   ]
  },
  {
   "cell_type": "code",
   "execution_count": null,
   "id": "065a0ad1",
   "metadata": {},
   "outputs": [],
   "source": []
  }
 ],
 "metadata": {
  "kernelspec": {
   "display_name": "Python 3 (ipykernel)",
   "language": "python",
   "name": "python3"
  },
  "language_info": {
   "codemirror_mode": {
    "name": "ipython",
    "version": 3
   },
   "file_extension": ".py",
   "mimetype": "text/x-python",
   "name": "python",
   "nbconvert_exporter": "python",
   "pygments_lexer": "ipython3",
   "version": "3.9.7"
  }
 },
 "nbformat": 4,
 "nbformat_minor": 5
}
